{
 "cells": [
  {
   "cell_type": "markdown",
   "metadata": {},
   "source": [
    "# Continuous Control\n",
    "\n",
    "---\n",
    "\n",
    "Solution for project 2 of the [Deep Reinforcement Learning Nanodegree](https://www.udacity.com/course/deep-reinforcement-learning-nanodegree--nd893) program.\n",
    "\n",
    "### Packages\n",
    "\n",
    "Import the necessary packages. If the code cell below returns an error, please revisit the project instructions to double-check that you have installed [Unity ML-Agents](https://github.com/Unity-Technologies/ml-agents/blob/master/docs/Installation.md) and [NumPy](http://www.numpy.org/)."
   ]
  },
  {
   "cell_type": "code",
   "execution_count": 1,
   "metadata": {},
   "outputs": [],
   "source": [
    "from unityagents import UnityEnvironment\n",
    "import numpy as np\n",
    "import torch\n",
    "import math\n",
    "import time\n",
    "from collections import deque\n",
    "\n",
    "from IPython.display import clear_output\n",
    "import matplotlib.pyplot as plt\n",
    "%matplotlib inline"
   ]
  },
  {
   "cell_type": "code",
   "execution_count": 2,
   "metadata": {},
   "outputs": [],
   "source": [
    "from agent.agent import Agent, AgentConfig"
   ]
  },
  {
   "cell_type": "markdown",
   "metadata": {},
   "source": [
    "### Unity Environment\n",
    "\n",
    "A wrapper for the unity enviroment making it resemble an [OpenAI Gym Environment](https://gym.openai.com/)."
   ]
  },
  {
   "cell_type": "code",
   "execution_count": 3,
   "metadata": {},
   "outputs": [],
   "source": [
    "class EnvironmentWrapper(object):    \n",
    "    \"\"\"Wrapper to make the unity enviroment more like OpenAI Gym.\"\"\"\n",
    "    \n",
    "    def __init__(self, env):\n",
    "        \"\"\"Initialize.\n",
    "        \n",
    "        Params\n",
    "        ======\n",
    "            env: The unity environment to wrap.\n",
    "        \"\"\"\n",
    "        self.env = env\n",
    "        self.brain_name = self.env.brain_names[0]\n",
    "\n",
    "        self.env_info = self.env.reset(train_mode=True)[self.brain_name]\n",
    "        self.num_agents = len(self.env_info.agents)\n",
    "        \n",
    "        self.action_size = self.env.brains[self.brain_name].vector_action_space_size\n",
    "        self.state_size = len(self.env_info.vector_observations[0])\n",
    "        \n",
    "        self.actions = np.zeros((self.num_agents, self.action_size))\n",
    "        \n",
    "    def reset(self, train_mode=True):\n",
    "        env_info = self.env.reset(train_mode=train_mode)[self.brain_name]\n",
    "        return env_info.vector_observations\n",
    "    \n",
    "    def step_single(self, action, agent):\n",
    "        self.actions[agent] = action\n",
    "\n",
    "        env_info = self.env.step(self.actions)[self.brain_name] \n",
    "        reward = env_info.rewards[agent]\n",
    "        next_state = env_info.vector_observations[agent]\n",
    "        done = env_info.local_done[agent]\n",
    "        \n",
    "        return next_state, reward, done, env_info\n",
    "    \n",
    "    \n",
    "    def step(self, action):\n",
    "        env_info = self.env.step(action)[self.brain_name] \n",
    "        reward = env_info.rewards\n",
    "        next_state = env_info.vector_observations\n",
    "        done = env_info.local_done\n",
    "        \n",
    "        return next_state, reward, done, env_info"
   ]
  },
  {
   "cell_type": "markdown",
   "metadata": {},
   "source": [
    "Start the environment!  **_Before running the code cell below_**, change the `file_name` parameter to match the location of the Unity environment that you downloaded.\n",
    "\n",
    "- **Mac**: `\"path/to/Reacher.app\"`\n",
    "- **Windows** (x86): `\"path/to/Reacher_Windows_x86/Reacher.exe\"`\n",
    "- **Windows** (x86_64): `\"path/to/Reacher_Windows_x86_64/Reacher.exe\"`\n",
    "- **Linux** (x86): `\"path/to/Reacher_Linux/Reacher.x86\"`\n",
    "- **Linux** (x86_64): `\"path/to/Reacher_Linux/Reacher.x86_64\"`\n",
    "- **Linux** (x86, headless): `\"path/to/Reacher_Linux_NoVis/Reacher.x86\"`\n",
    "- **Linux** (x86_64, headless): `\"path/to/Reacher_Linux_NoVis/Reacher.x86_64\"`\n",
    "\n",
    "For instance, if you are using a Mac, then you downloaded `Reacher.app`.  If this file is in the same folder as the notebook, then the line below should appear as follows:\n",
    "```\n",
    "env = UnityEnvironment(file_name=\"Reacher.app\")\n",
    "```"
   ]
  },
  {
   "cell_type": "code",
   "execution_count": 4,
   "metadata": {},
   "outputs": [
    {
     "name": "stderr",
     "output_type": "stream",
     "text": [
      "INFO:unityagents:\n",
      "'Academy' started successfully!\n",
      "Unity Academy name: Academy\n",
      "        Number of Brains: 1\n",
      "        Number of External Brains : 1\n",
      "        Lesson number : 0\n",
      "        Reset Parameters :\n",
      "\t\tgoal_speed -> 1.0\n",
      "\t\tgoal_size -> 5.0\n",
      "Unity brain name: ReacherBrain\n",
      "        Number of Visual Observations (per agent): 0\n",
      "        Vector Observation space type: continuous\n",
      "        Vector Observation space size (per agent): 33\n",
      "        Number of stacked Vector Observation: 1\n",
      "        Vector Action space type: continuous\n",
      "        Vector Action space size (per agent): 4\n",
      "        Vector Action descriptions: , , , \n"
     ]
    }
   ],
   "source": [
    "unity_env = UnityEnvironment(file_name='./environments/Reacher_Multi_Windows_x86_64/Reacher.exe')"
   ]
  },
  {
   "cell_type": "markdown",
   "metadata": {},
   "source": [
    "Wrap up the reacher enviroment in a gym-like container."
   ]
  },
  {
   "cell_type": "code",
   "execution_count": 5,
   "metadata": {},
   "outputs": [],
   "source": [
    "reacher_env = EnvironmentWrapper(unity_env)"
   ]
  },
  {
   "cell_type": "markdown",
   "metadata": {},
   "source": [
    "### DDPG Agent Training\n",
    "\n",
    "The training harness for the agent using Deep Deterministic Policy Gradients introduced in the [seminal paper](https://arxiv.org/pdf/1509.02971.pdf)."
   ]
  },
  {
   "cell_type": "code",
   "execution_count": 6,
   "metadata": {},
   "outputs": [],
   "source": [
    "def ddpg(ddpg_agent, n_episodes=500, max_t=1000, print_every=10):\n",
    "    scores = []\n",
    "    scores_window = deque(maxlen=100)\n",
    "    frame_num = 0\n",
    "    \n",
    "    for i_ep in range(1, n_episodes+1):\n",
    "        state = reacher_env.reset(True)\n",
    "        ddpg_agent.reset()\n",
    "        avg_score = 0\n",
    "        \n",
    "        for t in range(max_t):\n",
    "            action = ddpg_agent.act(state)\n",
    "            \n",
    "            next_state, reward, done, _ = reacher_env.step(action)\n",
    "            \n",
    "            ddpg_agent.step(state, action, reward, \n",
    "                            next_state, done)\n",
    "            \n",
    "            state = next_state\n",
    "            avg_score += sum(reward) / len(reward)\n",
    "            frame_num += 1\n",
    "                            \n",
    "        scores_window.append(avg_score)\n",
    "        scores.append(avg_score)\n",
    "  \n",
    "        print('\\rEpisode {}\\tCurrent Score: {:.2f}\\tAverage Score: {:.2f}'.format(i_ep, avg_score, np.mean(scores_window)), end=\"\")\n",
    "\n",
    "        if i_ep % print_every == 0:\n",
    "            print('\\rEpisode {}\\tCurrent Score: {:.2f}\\tAverage Score: {:.2f}'.format(i_ep, avg_score, np.mean(scores_window)))\n",
    "            \n",
    "        if np.mean(scores_window) >= 30.0 and i_ep >= 100:\n",
    "            print('\\nEnvironment solved in {:d} episodes!\\tAverage Score: {:.2f}'.format(i_ep, np.mean(scores_window)))\n",
    "            break\n",
    "\n",
    "    return scores"
   ]
  },
  {
   "cell_type": "markdown",
   "metadata": {},
   "source": [
    "Utility to plot the scores."
   ]
  },
  {
   "cell_type": "code",
   "execution_count": 7,
   "metadata": {},
   "outputs": [],
   "source": [
    "def plot_scores(scores, title=\"\"):\n",
    "    fig = plt.figure()\n",
    "    ax = fig.add_subplot(111)\n",
    "    plt.title(title)\n",
    "    plt.plot(np.arange(len(scores)), scores)\n",
    "    plt.ylabel('Score')\n",
    "    plt.xlabel('Episode #')\n",
    "    plt.show()"
   ]
  },
  {
   "cell_type": "markdown",
   "metadata": {},
   "source": [
    "Training the agent with optimized hyperparameters uncovered using grid search."
   ]
  },
  {
   "cell_type": "code",
   "execution_count": 9,
   "metadata": {
    "scrolled": true
   },
   "outputs": [
    {
     "name": "stdout",
     "output_type": "stream",
     "text": [
      "Agent Config:\n",
      "\tbuffer size: 1000000\tbatch size: 512\n",
      "\tgamma: 0.99\ttau: 0.001\n",
      "\tactor lr: 0.0001\tcritic lr: 0.0003\n",
      "\tmu: 0.0\ttheta: 0.15\tsigma: 0.2\n",
      "Episode 10\tCurrent Score: 3.13\tAverage Score: 1.47\n",
      "Episode 20\tCurrent Score: 21.69\tAverage Score: 7.19\n",
      "Episode 30\tCurrent Score: 37.52\tAverage Score: 16.56\n",
      "Episode 40\tCurrent Score: 37.52\tAverage Score: 21.74\n",
      "Episode 50\tCurrent Score: 37.48\tAverage Score: 24.80\n",
      "Episode 60\tCurrent Score: 38.06\tAverage Score: 26.90\n",
      "Episode 70\tCurrent Score: 39.07\tAverage Score: 28.45\n",
      "Episode 80\tCurrent Score: 38.25\tAverage Score: 29.58\n",
      "Episode 90\tCurrent Score: 38.58\tAverage Score: 30.53\n",
      "Episode 100\tCurrent Score: 37.34\tAverage Score: 31.21\n",
      "\n",
      "Environment solved in 100 episodes!\tAverage Score: 31.21\n",
      "Environment solved in 4225.22 seconds\n"
     ]
    },
    {
     "data": {
      "image/png": "[encoded data removed]",
      "text/plain": [
       "<Figure size 432x288 with 1 Axes>"
      ]
     },
     "metadata": {
      "needs_background": "light"
     },
     "output_type": "display_data"
    }
   ],
   "source": [
    "# setup agent hyperparameters\n",
    "config = AgentConfig()\n",
    "config.batch_size = 512\n",
    "config.lr_critic = 3e-4\n",
    "print(config)\n",
    "\n",
    "# train the agent for 150 episodes and show the scores\n",
    "start_time = time.time()\n",
    "ddpg_agent = Agent(reacher_env.state_size, reacher_env.action_size, config)\n",
    "scores = ddpg(ddpg_agent, 150)\n",
    "print(\"Environment solved in {:.2f} seconds\".format(time.time() - start_time))\n",
    "\n",
    "# save the checkpoints\n",
    "torch.save(ddpg_agent.actor_online.state_dict(), 'checkpoints/checkpoint_actor.pth')\n",
    "torch.save(ddpg_agent.critic_online.state_dict(), 'checkpoints/checkpoint_critic.pth')\n",
    "\n",
    "plot_scores(scores, \"DDPG Agent\")"
   ]
  },
  {
   "cell_type": "markdown",
   "metadata": {},
   "source": [
    "### Watch a Smart Agent"
   ]
  },
  {
   "cell_type": "markdown",
   "metadata": {},
   "source": [
    "Watch an agent control 20 independent articulating arms using the agent trained above."
   ]
  },
  {
   "cell_type": "code",
   "execution_count": 6,
   "metadata": {},
   "outputs": [],
   "source": [
    "def run_smart_agent(agent):\n",
    "    state = reacher_env.reset(False)\n",
    "    score = 0\n",
    "    while True:\n",
    "        action = agent.act(state, add_noise=False)\n",
    "        next_state, reward, done, _ = reacher_env.step(action)\n",
    "        score += sum(reward) / len(reward)                               # update the score\n",
    "        state = next_state                             # roll over the state to next time step\n",
    "        if any(done):                                       # exit loop if episode finished\n",
    "            break\n",
    "    print(\"Score: {}\".format(score))"
   ]
  },
  {
   "cell_type": "code",
   "execution_count": 7,
   "metadata": {},
   "outputs": [
    {
     "name": "stdout",
     "output_type": "stream",
     "text": [
      "Score: 39.53999911621213\n"
     ]
    }
   ],
   "source": [
    "config = AgentConfig()\n",
    "config.batch_size = 512\n",
    "config.lr_critic = 3e-4\n",
    "ddpg_agent = Agent(reacher_env.state_size, reacher_env.action_size, config)\n",
    "ddpg_agent.actor_online.load_state_dict(torch.load('./checkpoints/checkpoint_actor.pth'))\n",
    "ddpg_agent.critic_online.load_state_dict(torch.load('./checkpoints/checkpoint_critic.pth'))\n",
    "run_smart_agent(ddpg_agent)"
   ]
  },
  {
   "cell_type": "code",
   "execution_count": 12,
   "metadata": {},
   "outputs": [],
   "source": [
    "reacher_env.env.close()"
   ]
  },
  {
   "cell_type": "code",
   "execution_count": null,
   "metadata": {},
   "outputs": [],
   "source": []
  }
 ],
 "metadata": {
  "kernelspec": {
   "display_name": "Python 3",
   "language": "python",
   "name": "python3"
  },
  "language_info": {
   "codemirror_mode": {
    "name": "ipython",
    "version": 3
   },
   "file_extension": ".py",
   "mimetype": "text/x-python",
   "name": "python",
   "nbconvert_exporter": "python",
   "pygments_lexer": "ipython3",
   "version": "3.6.8"
  }
 },
 "nbformat": 4,
 "nbformat_minor": 2
}
